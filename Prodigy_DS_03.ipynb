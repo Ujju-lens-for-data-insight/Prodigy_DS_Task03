{
 "cells": [
  {
   "cell_type": "markdown",
   "id": "d4ec784f-4670-446e-9e64-974bb9522860",
   "metadata": {},
   "source": [
    "# <div style=\"background-color: lightgreen; padding: 10px;\"><font color='green'><center>PRODIGY_DS_03</center></font></div>"
   ]
  },
  {
   "cell_type": "markdown",
   "id": "9ccb6f0b-8e70-4ede-9972-57a4ccabf560",
   "metadata": {},
   "source": [
    "## <font color='green'><center>Task 3.To build a decision tree classifier to predict whether a customer will purchase a product or service based on their demographic and behavioral data.</center></font>"
   ]
  },
  {
   "cell_type": "markdown",
   "id": "cb33fd92-88ea-401f-931b-c203515a1131",
   "metadata": {},
   "source": [
    "### <font color='green'> INTRODUCTION :</font>\n",
    "#### A Decision Tree algorithm is one of the most popular machine learning algorithms. It uses a tree like structure and their possible combinations to solve a particular problem. It belongs to the class of supervised learning algorithms where it can be used for both classification and regression purposes.\n",
    "#### A decision tree is a structure that includes a root node, branches, and leaf nodes. Each internal node denotes a test on an attribute, each branch denotes the outcome of a test, and each leaf node holds a class label. The topmost node in the tree is the root node.\n",
    "#### We make some assumptions while implementing the Decision-Tree algorithm. These are listed below:-\n",
    " #### 1 At the beginning, the whole training set is considered as the root.\n",
    " #### 2 Feature values need to be categorical. If the values are continuous then they are discretized prior to building the model.\n",
    " #### 3 Records are distributed recursively on the basis of attribute values.\n",
    " #### 4 Order to placing attributes as root or internal node of the tree is done by using some statistical approach.\n",
    " \n"
   ]
  },
  {
   "cell_type": "markdown",
   "id": "1b95d93d-ada7-407b-81ac-03f598020b88",
   "metadata": {},
   "source": [
    "### <font color='green'>DATA DESCRIPTION :</font>\n",
    "#### The data is related with direct marketing campaigns of a Portuguese banking institution. The marketing campaigns were based on phone calls. Often, more than one contact to the same client was required, in order to access if the product (bank term deposit) would be ('yes') or not ('no') subscribed. "
   ]
  },
  {
   "cell_type": "markdown",
   "id": "588824ce-fde5-4792-accf-1ebd2733b46e",
   "metadata": {
    "tags": []
   },
   "source": [
    "### <font color='green'>Loading Data Set :</font>"
   ]
  },
  {
   "cell_type": "code",
   "execution_count": 57,
   "id": "ca09e633-0662-497e-8bde-0e92e9e04f5d",
   "metadata": {
    "tags": []
   },
   "outputs": [
    {
     "name": "stdout",
     "output_type": "stream",
     "text": [
      "{'uci_id': 222, 'name': 'Bank Marketing', 'repository_url': 'https://archive.ics.uci.edu/dataset/222/bank+marketing', 'data_url': 'https://archive.ics.uci.edu/static/public/222/data.csv', 'abstract': 'The data is related with direct marketing campaigns (phone calls) of a Portuguese banking institution. The classification goal is to predict if the client will subscribe a term deposit (variable y).', 'area': 'Business', 'tasks': ['Classification'], 'characteristics': ['Multivariate'], 'num_instances': 45211, 'num_features': 16, 'feature_types': ['Categorical', 'Integer'], 'demographics': ['Age', 'Occupation', 'Marital Status', 'Education Level'], 'target_col': ['y'], 'index_col': None, 'has_missing_values': 'yes', 'missing_values_symbol': 'NaN', 'year_of_dataset_creation': 2014, 'last_updated': 'Fri Aug 18 2023', 'dataset_doi': '10.24432/C5K306', 'creators': ['S. Moro', 'P. Rita', 'P. Cortez'], 'intro_paper': {'title': 'A data-driven approach to predict the success of bank telemarketing', 'authors': 'Sérgio Moro, P. Cortez, P. Rita', 'published_in': 'Decision Support Systems', 'year': 2014, 'url': 'https://www.semanticscholar.org/paper/cab86052882d126d43f72108c6cb41b295cc8a9e', 'doi': '10.1016/j.dss.2014.03.001'}, 'additional_info': {'summary': \"The data is related with direct marketing campaigns of a Portuguese banking institution. The marketing campaigns were based on phone calls. Often, more than one contact to the same client was required, in order to access if the product (bank term deposit) would be ('yes') or not ('no') subscribed. \\n\\nThere are four datasets: \\n1) bank-additional-full.csv with all examples (41188) and 20 inputs, ordered by date (from May 2008 to November 2010), very close to the data analyzed in [Moro et al., 2014]\\n2) bank-additional.csv with 10% of the examples (4119), randomly selected from 1), and 20 inputs.\\n3) bank-full.csv with all examples and 17 inputs, ordered by date (older version of this dataset with less inputs). \\n4) bank.csv with 10% of the examples and 17 inputs, randomly selected from 3 (older version of this dataset with less inputs). \\nThe smallest datasets are provided to test more computationally demanding machine learning algorithms (e.g., SVM). \\n\\nThe classification goal is to predict if the client will subscribe (yes/no) a term deposit (variable y).\", 'purpose': None, 'funded_by': None, 'instances_represent': None, 'recommended_data_splits': None, 'sensitive_data': None, 'preprocessing_description': None, 'variable_info': 'Input variables:\\n   # bank client data:\\n   1 - age (numeric)\\n   2 - job : type of job (categorical: \"admin.\",\"unknown\",\"unemployed\",\"management\",\"housemaid\",\"entrepreneur\",\"student\",\\n                                       \"blue-collar\",\"self-employed\",\"retired\",\"technician\",\"services\") \\n   3 - marital : marital status (categorical: \"married\",\"divorced\",\"single\"; note: \"divorced\" means divorced or widowed)\\n   4 - education (categorical: \"unknown\",\"secondary\",\"primary\",\"tertiary\")\\n   5 - default: has credit in default? (binary: \"yes\",\"no\")\\n   6 - balance: average yearly balance, in euros (numeric) \\n   7 - housing: has housing loan? (binary: \"yes\",\"no\")\\n   8 - loan: has personal loan? (binary: \"yes\",\"no\")\\n   # related with the last contact of the current campaign:\\n   9 - contact: contact communication type (categorical: \"unknown\",\"telephone\",\"cellular\") \\n  10 - day: last contact day of the month (numeric)\\n  11 - month: last contact month of year (categorical: \"jan\", \"feb\", \"mar\", ..., \"nov\", \"dec\")\\n  12 - duration: last contact duration, in seconds (numeric)\\n   # other attributes:\\n  13 - campaign: number of contacts performed during this campaign and for this client (numeric, includes last contact)\\n  14 - pdays: number of days that passed by after the client was last contacted from a previous campaign (numeric, -1 means client was not previously contacted)\\n  15 - previous: number of contacts performed before this campaign and for this client (numeric)\\n  16 - poutcome: outcome of the previous marketing campaign (categorical: \"unknown\",\"other\",\"failure\",\"success\")\\n\\n  Output variable (desired target):\\n  17 - y - has the client subscribed a term deposit? (binary: \"yes\",\"no\")\\n', 'citation': None}}\n",
      "           name     role         type      demographic  \\\n",
      "0           age  Feature      Integer              Age   \n",
      "1           job  Feature  Categorical       Occupation   \n",
      "2       marital  Feature  Categorical   Marital Status   \n",
      "3     education  Feature  Categorical  Education Level   \n",
      "4       default  Feature       Binary             None   \n",
      "5       balance  Feature      Integer             None   \n",
      "6       housing  Feature       Binary             None   \n",
      "7          loan  Feature       Binary             None   \n",
      "8       contact  Feature  Categorical             None   \n",
      "9   day_of_week  Feature         Date             None   \n",
      "10        month  Feature         Date             None   \n",
      "11     duration  Feature      Integer             None   \n",
      "12     campaign  Feature      Integer             None   \n",
      "13        pdays  Feature      Integer             None   \n",
      "14     previous  Feature      Integer             None   \n",
      "15     poutcome  Feature  Categorical             None   \n",
      "16            y   Target       Binary             None   \n",
      "\n",
      "                                          description  units missing_values  \n",
      "0                                                None   None             no  \n",
      "1   type of job (categorical: 'admin.','blue-colla...   None             no  \n",
      "2   marital status (categorical: 'divorced','marri...   None             no  \n",
      "3   (categorical: 'basic.4y','basic.6y','basic.9y'...   None             no  \n",
      "4                              has credit in default?   None             no  \n",
      "5                              average yearly balance  euros             no  \n",
      "6                                   has housing loan?   None             no  \n",
      "7                                  has personal loan?   None             no  \n",
      "8   contact communication type (categorical: 'cell...   None            yes  \n",
      "9                        last contact day of the week   None             no  \n",
      "10  last contact month of year (categorical: 'jan'...   None             no  \n",
      "11   last contact duration, in seconds (numeric). ...   None             no  \n",
      "12  number of contacts performed during this campa...   None             no  \n",
      "13  number of days that passed by after the client...   None            yes  \n",
      "14  number of contacts performed before this campa...   None             no  \n",
      "15  outcome of the previous marketing campaign (ca...   None            yes  \n",
      "16          has the client subscribed a term deposit?   None             no  \n"
     ]
    }
   ],
   "source": [
    "#pip install ucimlrepo\n",
    "from ucimlrepo import fetch_ucirepo \n",
    "  \n",
    "# fetch dataset \n",
    "bank_marketing = fetch_ucirepo(id=222) \n",
    "   \n",
    "# data (as pandas dataframes) \n",
    "X = bank_marketing.data.features \n",
    "y = bank_marketing.data.targets \n",
    "  \n",
    "# metadata \n",
    "print(bank_marketing.metadata) \n",
    "  \n",
    "# variable information \n",
    "print(bank_marketing.variables) \n"
   ]
  },
  {
   "cell_type": "markdown",
   "id": "bf209ea4-9c12-4980-9047-513fdcbe24c6",
   "metadata": {
    "tags": []
   },
   "source": [
    "### <font color='green'>Import Libraries :</font>"
   ]
  },
  {
   "cell_type": "code",
   "execution_count": 61,
   "id": "19f9ac84-d689-4f67-a613-de76b7c5b7b7",
   "metadata": {
    "tags": []
   },
   "outputs": [],
   "source": [
    "import pandas as pd\n",
    "import matplotlib.pyplot as plt \n",
    "import seaborn as sns \n",
    "%matplotlib inline\n",
    "from sklearn.model_selection import train_test_split\n",
    "from sklearn.tree import DecisionTreeClassifier\n",
    "from sklearn.metrics import accuracy_score, classification_report, confusion_matrix\n",
    "from sklearn.preprocessing import LabelEncoder"
   ]
  },
  {
   "cell_type": "markdown",
   "id": "1bb6cc53-fb95-474a-8ca7-79ea57878b74",
   "metadata": {
    "tags": []
   },
   "source": [
    "### <font color='green'>Understanding and Describing Data Set :</font>"
   ]
  },
  {
   "cell_type": "code",
   "execution_count": 63,
   "id": "eeebb4fb-86d4-4ebf-9353-889b6a3b40a2",
   "metadata": {
    "tags": []
   },
   "outputs": [
    {
     "data": {
      "text/html": [
       "<div>\n",
       "<style scoped>\n",
       "    .dataframe tbody tr th:only-of-type {\n",
       "        vertical-align: middle;\n",
       "    }\n",
       "\n",
       "    .dataframe tbody tr th {\n",
       "        vertical-align: top;\n",
       "    }\n",
       "\n",
       "    .dataframe thead th {\n",
       "        text-align: right;\n",
       "    }\n",
       "</style>\n",
       "<table border=\"1\" class=\"dataframe\">\n",
       "  <thead>\n",
       "    <tr style=\"text-align: right;\">\n",
       "      <th></th>\n",
       "      <th>age</th>\n",
       "      <th>job</th>\n",
       "      <th>marital</th>\n",
       "      <th>education</th>\n",
       "      <th>default</th>\n",
       "      <th>balance</th>\n",
       "      <th>housing</th>\n",
       "      <th>loan</th>\n",
       "      <th>contact</th>\n",
       "      <th>day_of_week</th>\n",
       "      <th>month</th>\n",
       "      <th>duration</th>\n",
       "      <th>campaign</th>\n",
       "      <th>pdays</th>\n",
       "      <th>previous</th>\n",
       "      <th>poutcome</th>\n",
       "      <th>y</th>\n",
       "    </tr>\n",
       "  </thead>\n",
       "  <tbody>\n",
       "    <tr>\n",
       "      <th>0</th>\n",
       "      <td>58</td>\n",
       "      <td>management</td>\n",
       "      <td>married</td>\n",
       "      <td>tertiary</td>\n",
       "      <td>no</td>\n",
       "      <td>2143</td>\n",
       "      <td>yes</td>\n",
       "      <td>no</td>\n",
       "      <td>NaN</td>\n",
       "      <td>5</td>\n",
       "      <td>may</td>\n",
       "      <td>261</td>\n",
       "      <td>1</td>\n",
       "      <td>-1</td>\n",
       "      <td>0</td>\n",
       "      <td>NaN</td>\n",
       "      <td>no</td>\n",
       "    </tr>\n",
       "    <tr>\n",
       "      <th>1</th>\n",
       "      <td>44</td>\n",
       "      <td>technician</td>\n",
       "      <td>single</td>\n",
       "      <td>secondary</td>\n",
       "      <td>no</td>\n",
       "      <td>29</td>\n",
       "      <td>yes</td>\n",
       "      <td>no</td>\n",
       "      <td>NaN</td>\n",
       "      <td>5</td>\n",
       "      <td>may</td>\n",
       "      <td>151</td>\n",
       "      <td>1</td>\n",
       "      <td>-1</td>\n",
       "      <td>0</td>\n",
       "      <td>NaN</td>\n",
       "      <td>no</td>\n",
       "    </tr>\n",
       "    <tr>\n",
       "      <th>2</th>\n",
       "      <td>33</td>\n",
       "      <td>entrepreneur</td>\n",
       "      <td>married</td>\n",
       "      <td>secondary</td>\n",
       "      <td>no</td>\n",
       "      <td>2</td>\n",
       "      <td>yes</td>\n",
       "      <td>yes</td>\n",
       "      <td>NaN</td>\n",
       "      <td>5</td>\n",
       "      <td>may</td>\n",
       "      <td>76</td>\n",
       "      <td>1</td>\n",
       "      <td>-1</td>\n",
       "      <td>0</td>\n",
       "      <td>NaN</td>\n",
       "      <td>no</td>\n",
       "    </tr>\n",
       "    <tr>\n",
       "      <th>3</th>\n",
       "      <td>47</td>\n",
       "      <td>blue-collar</td>\n",
       "      <td>married</td>\n",
       "      <td>NaN</td>\n",
       "      <td>no</td>\n",
       "      <td>1506</td>\n",
       "      <td>yes</td>\n",
       "      <td>no</td>\n",
       "      <td>NaN</td>\n",
       "      <td>5</td>\n",
       "      <td>may</td>\n",
       "      <td>92</td>\n",
       "      <td>1</td>\n",
       "      <td>-1</td>\n",
       "      <td>0</td>\n",
       "      <td>NaN</td>\n",
       "      <td>no</td>\n",
       "    </tr>\n",
       "    <tr>\n",
       "      <th>4</th>\n",
       "      <td>33</td>\n",
       "      <td>NaN</td>\n",
       "      <td>single</td>\n",
       "      <td>NaN</td>\n",
       "      <td>no</td>\n",
       "      <td>1</td>\n",
       "      <td>no</td>\n",
       "      <td>no</td>\n",
       "      <td>NaN</td>\n",
       "      <td>5</td>\n",
       "      <td>may</td>\n",
       "      <td>198</td>\n",
       "      <td>1</td>\n",
       "      <td>-1</td>\n",
       "      <td>0</td>\n",
       "      <td>NaN</td>\n",
       "      <td>no</td>\n",
       "    </tr>\n",
       "  </tbody>\n",
       "</table>\n",
       "</div>"
      ],
      "text/plain": [
       "   age           job  marital  education default  balance housing loan  \\\n",
       "0   58    management  married   tertiary      no     2143     yes   no   \n",
       "1   44    technician   single  secondary      no       29     yes   no   \n",
       "2   33  entrepreneur  married  secondary      no        2     yes  yes   \n",
       "3   47   blue-collar  married        NaN      no     1506     yes   no   \n",
       "4   33           NaN   single        NaN      no        1      no   no   \n",
       "\n",
       "  contact  day_of_week month  duration  campaign  pdays  previous poutcome   y  \n",
       "0     NaN            5   may       261         1     -1         0      NaN  no  \n",
       "1     NaN            5   may       151         1     -1         0      NaN  no  \n",
       "2     NaN            5   may        76         1     -1         0      NaN  no  \n",
       "3     NaN            5   may        92         1     -1         0      NaN  no  \n",
       "4     NaN            5   may       198         1     -1         0      NaN  no  "
      ]
     },
     "execution_count": 63,
     "metadata": {},
     "output_type": "execute_result"
    }
   ],
   "source": [
    "Banking_data = X.copy()\n",
    "Banking_data['y'] = y\n",
    "Banking_data.head()"
   ]
  },
  {
   "cell_type": "code",
   "execution_count": 65,
   "id": "b4ff15e3-bb02-4a39-ad56-9fd772c71744",
   "metadata": {
    "tags": []
   },
   "outputs": [
    {
     "name": "stdout",
     "output_type": "stream",
     "text": [
      "<class 'pandas.core.frame.DataFrame'>\n",
      "RangeIndex: 45211 entries, 0 to 45210\n",
      "Data columns (total 17 columns):\n",
      " #   Column       Non-Null Count  Dtype \n",
      "---  ------       --------------  ----- \n",
      " 0   age          45211 non-null  int64 \n",
      " 1   job          44923 non-null  object\n",
      " 2   marital      45211 non-null  object\n",
      " 3   education    43354 non-null  object\n",
      " 4   default      45211 non-null  object\n",
      " 5   balance      45211 non-null  int64 \n",
      " 6   housing      45211 non-null  object\n",
      " 7   loan         45211 non-null  object\n",
      " 8   contact      32191 non-null  object\n",
      " 9   day_of_week  45211 non-null  int64 \n",
      " 10  month        45211 non-null  object\n",
      " 11  duration     45211 non-null  int64 \n",
      " 12  campaign     45211 non-null  int64 \n",
      " 13  pdays        45211 non-null  int64 \n",
      " 14  previous     45211 non-null  int64 \n",
      " 15  poutcome     8252 non-null   object\n",
      " 16  y            45211 non-null  object\n",
      "dtypes: int64(7), object(10)\n",
      "memory usage: 5.9+ MB\n"
     ]
    }
   ],
   "source": [
    "Banking_data.info()"
   ]
  },
  {
   "cell_type": "code",
   "execution_count": 66,
   "id": "5ed935ca-cb02-4682-a598-5e8416faf018",
   "metadata": {
    "tags": []
   },
   "outputs": [
    {
     "data": {
      "text/html": [
       "<div>\n",
       "<style scoped>\n",
       "    .dataframe tbody tr th:only-of-type {\n",
       "        vertical-align: middle;\n",
       "    }\n",
       "\n",
       "    .dataframe tbody tr th {\n",
       "        vertical-align: top;\n",
       "    }\n",
       "\n",
       "    .dataframe thead th {\n",
       "        text-align: right;\n",
       "    }\n",
       "</style>\n",
       "<table border=\"1\" class=\"dataframe\">\n",
       "  <thead>\n",
       "    <tr style=\"text-align: right;\">\n",
       "      <th></th>\n",
       "      <th>age</th>\n",
       "      <th>balance</th>\n",
       "      <th>day_of_week</th>\n",
       "      <th>duration</th>\n",
       "      <th>campaign</th>\n",
       "      <th>pdays</th>\n",
       "      <th>previous</th>\n",
       "    </tr>\n",
       "  </thead>\n",
       "  <tbody>\n",
       "    <tr>\n",
       "      <th>count</th>\n",
       "      <td>45211.000000</td>\n",
       "      <td>45211.000000</td>\n",
       "      <td>45211.000000</td>\n",
       "      <td>45211.000000</td>\n",
       "      <td>45211.000000</td>\n",
       "      <td>45211.000000</td>\n",
       "      <td>45211.000000</td>\n",
       "    </tr>\n",
       "    <tr>\n",
       "      <th>mean</th>\n",
       "      <td>40.936210</td>\n",
       "      <td>1362.272058</td>\n",
       "      <td>15.806419</td>\n",
       "      <td>258.163080</td>\n",
       "      <td>2.763841</td>\n",
       "      <td>40.197828</td>\n",
       "      <td>0.580323</td>\n",
       "    </tr>\n",
       "    <tr>\n",
       "      <th>std</th>\n",
       "      <td>10.618762</td>\n",
       "      <td>3044.765829</td>\n",
       "      <td>8.322476</td>\n",
       "      <td>257.527812</td>\n",
       "      <td>3.098021</td>\n",
       "      <td>100.128746</td>\n",
       "      <td>2.303441</td>\n",
       "    </tr>\n",
       "    <tr>\n",
       "      <th>min</th>\n",
       "      <td>18.000000</td>\n",
       "      <td>-8019.000000</td>\n",
       "      <td>1.000000</td>\n",
       "      <td>0.000000</td>\n",
       "      <td>1.000000</td>\n",
       "      <td>-1.000000</td>\n",
       "      <td>0.000000</td>\n",
       "    </tr>\n",
       "    <tr>\n",
       "      <th>25%</th>\n",
       "      <td>33.000000</td>\n",
       "      <td>72.000000</td>\n",
       "      <td>8.000000</td>\n",
       "      <td>103.000000</td>\n",
       "      <td>1.000000</td>\n",
       "      <td>-1.000000</td>\n",
       "      <td>0.000000</td>\n",
       "    </tr>\n",
       "    <tr>\n",
       "      <th>50%</th>\n",
       "      <td>39.000000</td>\n",
       "      <td>448.000000</td>\n",
       "      <td>16.000000</td>\n",
       "      <td>180.000000</td>\n",
       "      <td>2.000000</td>\n",
       "      <td>-1.000000</td>\n",
       "      <td>0.000000</td>\n",
       "    </tr>\n",
       "    <tr>\n",
       "      <th>75%</th>\n",
       "      <td>48.000000</td>\n",
       "      <td>1428.000000</td>\n",
       "      <td>21.000000</td>\n",
       "      <td>319.000000</td>\n",
       "      <td>3.000000</td>\n",
       "      <td>-1.000000</td>\n",
       "      <td>0.000000</td>\n",
       "    </tr>\n",
       "    <tr>\n",
       "      <th>max</th>\n",
       "      <td>95.000000</td>\n",
       "      <td>102127.000000</td>\n",
       "      <td>31.000000</td>\n",
       "      <td>4918.000000</td>\n",
       "      <td>63.000000</td>\n",
       "      <td>871.000000</td>\n",
       "      <td>275.000000</td>\n",
       "    </tr>\n",
       "  </tbody>\n",
       "</table>\n",
       "</div>"
      ],
      "text/plain": [
       "                age        balance   day_of_week      duration      campaign  \\\n",
       "count  45211.000000   45211.000000  45211.000000  45211.000000  45211.000000   \n",
       "mean      40.936210    1362.272058     15.806419    258.163080      2.763841   \n",
       "std       10.618762    3044.765829      8.322476    257.527812      3.098021   \n",
       "min       18.000000   -8019.000000      1.000000      0.000000      1.000000   \n",
       "25%       33.000000      72.000000      8.000000    103.000000      1.000000   \n",
       "50%       39.000000     448.000000     16.000000    180.000000      2.000000   \n",
       "75%       48.000000    1428.000000     21.000000    319.000000      3.000000   \n",
       "max       95.000000  102127.000000     31.000000   4918.000000     63.000000   \n",
       "\n",
       "              pdays      previous  \n",
       "count  45211.000000  45211.000000  \n",
       "mean      40.197828      0.580323  \n",
       "std      100.128746      2.303441  \n",
       "min       -1.000000      0.000000  \n",
       "25%       -1.000000      0.000000  \n",
       "50%       -1.000000      0.000000  \n",
       "75%       -1.000000      0.000000  \n",
       "max      871.000000    275.000000  "
      ]
     },
     "execution_count": 66,
     "metadata": {},
     "output_type": "execute_result"
    }
   ],
   "source": [
    "Banking_data.describe()"
   ]
  },
  {
   "cell_type": "markdown",
   "id": "9c7e929d-27eb-43c1-ab76-db07a9365fd6",
   "metadata": {},
   "source": [
    "### <font color='green'>Frequency distribution of values in variables</font>"
   ]
  },
  {
   "cell_type": "code",
   "execution_count": 67,
   "id": "8dae7612-b477-41b1-9023-32d87f06d81c",
   "metadata": {
    "tags": []
   },
   "outputs": [
    {
     "name": "stdout",
     "output_type": "stream",
     "text": [
      "age\n",
      "32    2085\n",
      "31    1996\n",
      "33    1972\n",
      "34    1930\n",
      "35    1894\n",
      "      ... \n",
      "93       2\n",
      "90       2\n",
      "95       2\n",
      "88       2\n",
      "94       1\n",
      "Name: count, Length: 77, dtype: int64\n",
      "job\n",
      "blue-collar      9732\n",
      "management       9458\n",
      "technician       7597\n",
      "admin.           5171\n",
      "services         4154\n",
      "retired          2264\n",
      "self-employed    1579\n",
      "entrepreneur     1487\n",
      "unemployed       1303\n",
      "housemaid        1240\n",
      "student           938\n",
      "Name: count, dtype: int64\n",
      "marital\n",
      "married     27214\n",
      "single      12790\n",
      "divorced     5207\n",
      "Name: count, dtype: int64\n",
      "education\n",
      "secondary    23202\n",
      "tertiary     13301\n",
      "primary       6851\n",
      "Name: count, dtype: int64\n",
      "default\n",
      "no     44396\n",
      "yes      815\n",
      "Name: count, dtype: int64\n",
      "balance\n",
      " 0        3514\n",
      " 1         195\n",
      " 2         156\n",
      " 4         139\n",
      " 3         134\n",
      "          ... \n",
      "-381         1\n",
      " 4617        1\n",
      " 20584       1\n",
      " 4358        1\n",
      " 16353       1\n",
      "Name: count, Length: 7168, dtype: int64\n",
      "housing\n",
      "yes    25130\n",
      "no     20081\n",
      "Name: count, dtype: int64\n",
      "loan\n",
      "no     37967\n",
      "yes     7244\n",
      "Name: count, dtype: int64\n",
      "contact\n",
      "cellular     29285\n",
      "telephone     2906\n",
      "Name: count, dtype: int64\n",
      "day_of_week\n",
      "20    2752\n",
      "18    2308\n",
      "21    2026\n",
      "17    1939\n",
      "6     1932\n",
      "5     1910\n",
      "14    1848\n",
      "8     1842\n",
      "28    1830\n",
      "7     1817\n",
      "19    1757\n",
      "29    1745\n",
      "15    1703\n",
      "12    1603\n",
      "13    1585\n",
      "30    1566\n",
      "9     1561\n",
      "11    1479\n",
      "4     1445\n",
      "16    1415\n",
      "2     1293\n",
      "27    1121\n",
      "3     1079\n",
      "26    1035\n",
      "23     939\n",
      "22     905\n",
      "25     840\n",
      "31     643\n",
      "10     524\n",
      "24     447\n",
      "1      322\n",
      "Name: count, dtype: int64\n",
      "month\n",
      "may    13766\n",
      "jul     6895\n",
      "aug     6247\n",
      "jun     5341\n",
      "nov     3970\n",
      "apr     2932\n",
      "feb     2649\n",
      "jan     1403\n",
      "oct      738\n",
      "sep      579\n",
      "mar      477\n",
      "dec      214\n",
      "Name: count, dtype: int64\n",
      "duration\n",
      "124     188\n",
      "90      184\n",
      "89      177\n",
      "104     175\n",
      "122     175\n",
      "       ... \n",
      "1833      1\n",
      "1545      1\n",
      "1352      1\n",
      "1342      1\n",
      "1556      1\n",
      "Name: count, Length: 1573, dtype: int64\n",
      "campaign\n",
      "1     17544\n",
      "2     12505\n",
      "3      5521\n",
      "4      3522\n",
      "5      1764\n",
      "6      1291\n",
      "7       735\n",
      "8       540\n",
      "9       327\n",
      "10      266\n",
      "11      201\n",
      "12      155\n",
      "13      133\n",
      "14       93\n",
      "15       84\n",
      "16       79\n",
      "17       69\n",
      "18       51\n",
      "19       44\n",
      "20       43\n",
      "21       35\n",
      "22       23\n",
      "25       22\n",
      "23       22\n",
      "24       20\n",
      "29       16\n",
      "28       16\n",
      "26       13\n",
      "31       12\n",
      "27       10\n",
      "32        9\n",
      "30        8\n",
      "33        6\n",
      "34        5\n",
      "36        4\n",
      "35        4\n",
      "43        3\n",
      "38        3\n",
      "37        2\n",
      "50        2\n",
      "41        2\n",
      "46        1\n",
      "58        1\n",
      "55        1\n",
      "63        1\n",
      "51        1\n",
      "39        1\n",
      "44        1\n",
      "Name: count, dtype: int64\n",
      "pdays\n",
      "-1      36954\n",
      " 182      167\n",
      " 92       147\n",
      " 91       126\n",
      " 183      126\n",
      "        ...  \n",
      " 449        1\n",
      " 452        1\n",
      " 648        1\n",
      " 595        1\n",
      " 530        1\n",
      "Name: count, Length: 559, dtype: int64\n",
      "previous\n",
      "0      36954\n",
      "1       2772\n",
      "2       2106\n",
      "3       1142\n",
      "4        714\n",
      "5        459\n",
      "6        277\n",
      "7        205\n",
      "8        129\n",
      "9         92\n",
      "10        67\n",
      "11        65\n",
      "12        44\n",
      "13        38\n",
      "15        20\n",
      "14        19\n",
      "17        15\n",
      "16        13\n",
      "19        11\n",
      "20         8\n",
      "23         8\n",
      "18         6\n",
      "22         6\n",
      "24         5\n",
      "27         5\n",
      "21         4\n",
      "29         4\n",
      "25         4\n",
      "30         3\n",
      "38         2\n",
      "37         2\n",
      "26         2\n",
      "28         2\n",
      "51         1\n",
      "275        1\n",
      "58         1\n",
      "32         1\n",
      "40         1\n",
      "55         1\n",
      "35         1\n",
      "41         1\n",
      "Name: count, dtype: int64\n",
      "poutcome\n",
      "failure    4901\n",
      "other      1840\n",
      "success    1511\n",
      "Name: count, dtype: int64\n",
      "y\n",
      "0    39922\n",
      "1     5289\n",
      "Name: count, dtype: int64\n"
     ]
    }
   ],
   "source": [
    "col_names = Banking_data.columns\n",
    "\n",
    "\n",
    "for col in col_names:\n",
    "    \n",
    "    print(df[col].value_counts()) "
   ]
  },
  {
   "cell_type": "markdown",
   "id": "07eed9b2-06e5-4fc5-9a28-afefc45d6637",
   "metadata": {},
   "source": [
    "### <font color='green'>This is our target variable </font>"
   ]
  },
  {
   "cell_type": "code",
   "execution_count": 68,
   "id": "b7e07dd8-e1ca-49f7-b5b7-ef8d58ae3a0c",
   "metadata": {
    "tags": []
   },
   "outputs": [
    {
     "data": {
      "text/plain": [
       "y\n",
       "no     39922\n",
       "yes     5289\n",
       "Name: count, dtype: int64"
      ]
     },
     "execution_count": 68,
     "metadata": {},
     "output_type": "execute_result"
    }
   ],
   "source": [
    "Banking_data['y'].value_counts()"
   ]
  },
  {
   "cell_type": "markdown",
   "id": "221ff56d-c59b-41af-97bd-8e0d02f6ed25",
   "metadata": {},
   "source": [
    "### <font color='green'> We will drop rows with missing target variables</font>"
   ]
  },
  {
   "cell_type": "code",
   "execution_count": 70,
   "id": "6b30e87f-88c9-4b00-b832-718ed504470c",
   "metadata": {
    "tags": []
   },
   "outputs": [
    {
     "data": {
      "text/html": [
       "<div>\n",
       "<style scoped>\n",
       "    .dataframe tbody tr th:only-of-type {\n",
       "        vertical-align: middle;\n",
       "    }\n",
       "\n",
       "    .dataframe tbody tr th {\n",
       "        vertical-align: top;\n",
       "    }\n",
       "\n",
       "    .dataframe thead th {\n",
       "        text-align: right;\n",
       "    }\n",
       "</style>\n",
       "<table border=\"1\" class=\"dataframe\">\n",
       "  <thead>\n",
       "    <tr style=\"text-align: right;\">\n",
       "      <th></th>\n",
       "      <th>age</th>\n",
       "      <th>job</th>\n",
       "      <th>marital</th>\n",
       "      <th>education</th>\n",
       "      <th>default</th>\n",
       "      <th>balance</th>\n",
       "      <th>housing</th>\n",
       "      <th>loan</th>\n",
       "      <th>contact</th>\n",
       "      <th>day_of_week</th>\n",
       "      <th>month</th>\n",
       "      <th>duration</th>\n",
       "      <th>campaign</th>\n",
       "      <th>pdays</th>\n",
       "      <th>previous</th>\n",
       "      <th>poutcome</th>\n",
       "      <th>y</th>\n",
       "    </tr>\n",
       "  </thead>\n",
       "  <tbody>\n",
       "    <tr>\n",
       "      <th>0</th>\n",
       "      <td>58</td>\n",
       "      <td>management</td>\n",
       "      <td>married</td>\n",
       "      <td>tertiary</td>\n",
       "      <td>no</td>\n",
       "      <td>2143</td>\n",
       "      <td>yes</td>\n",
       "      <td>no</td>\n",
       "      <td>NaN</td>\n",
       "      <td>5</td>\n",
       "      <td>may</td>\n",
       "      <td>261</td>\n",
       "      <td>1</td>\n",
       "      <td>-1</td>\n",
       "      <td>0</td>\n",
       "      <td>NaN</td>\n",
       "      <td>no</td>\n",
       "    </tr>\n",
       "    <tr>\n",
       "      <th>1</th>\n",
       "      <td>44</td>\n",
       "      <td>technician</td>\n",
       "      <td>single</td>\n",
       "      <td>secondary</td>\n",
       "      <td>no</td>\n",
       "      <td>29</td>\n",
       "      <td>yes</td>\n",
       "      <td>no</td>\n",
       "      <td>NaN</td>\n",
       "      <td>5</td>\n",
       "      <td>may</td>\n",
       "      <td>151</td>\n",
       "      <td>1</td>\n",
       "      <td>-1</td>\n",
       "      <td>0</td>\n",
       "      <td>NaN</td>\n",
       "      <td>no</td>\n",
       "    </tr>\n",
       "    <tr>\n",
       "      <th>2</th>\n",
       "      <td>33</td>\n",
       "      <td>entrepreneur</td>\n",
       "      <td>married</td>\n",
       "      <td>secondary</td>\n",
       "      <td>no</td>\n",
       "      <td>2</td>\n",
       "      <td>yes</td>\n",
       "      <td>yes</td>\n",
       "      <td>NaN</td>\n",
       "      <td>5</td>\n",
       "      <td>may</td>\n",
       "      <td>76</td>\n",
       "      <td>1</td>\n",
       "      <td>-1</td>\n",
       "      <td>0</td>\n",
       "      <td>NaN</td>\n",
       "      <td>no</td>\n",
       "    </tr>\n",
       "    <tr>\n",
       "      <th>3</th>\n",
       "      <td>47</td>\n",
       "      <td>blue-collar</td>\n",
       "      <td>married</td>\n",
       "      <td>NaN</td>\n",
       "      <td>no</td>\n",
       "      <td>1506</td>\n",
       "      <td>yes</td>\n",
       "      <td>no</td>\n",
       "      <td>NaN</td>\n",
       "      <td>5</td>\n",
       "      <td>may</td>\n",
       "      <td>92</td>\n",
       "      <td>1</td>\n",
       "      <td>-1</td>\n",
       "      <td>0</td>\n",
       "      <td>NaN</td>\n",
       "      <td>no</td>\n",
       "    </tr>\n",
       "    <tr>\n",
       "      <th>4</th>\n",
       "      <td>33</td>\n",
       "      <td>NaN</td>\n",
       "      <td>single</td>\n",
       "      <td>NaN</td>\n",
       "      <td>no</td>\n",
       "      <td>1</td>\n",
       "      <td>no</td>\n",
       "      <td>no</td>\n",
       "      <td>NaN</td>\n",
       "      <td>5</td>\n",
       "      <td>may</td>\n",
       "      <td>198</td>\n",
       "      <td>1</td>\n",
       "      <td>-1</td>\n",
       "      <td>0</td>\n",
       "      <td>NaN</td>\n",
       "      <td>no</td>\n",
       "    </tr>\n",
       "  </tbody>\n",
       "</table>\n",
       "</div>"
      ],
      "text/plain": [
       "   age           job  marital  education default  balance housing loan  \\\n",
       "0   58    management  married   tertiary      no     2143     yes   no   \n",
       "1   44    technician   single  secondary      no       29     yes   no   \n",
       "2   33  entrepreneur  married  secondary      no        2     yes  yes   \n",
       "3   47   blue-collar  married        NaN      no     1506     yes   no   \n",
       "4   33           NaN   single        NaN      no        1      no   no   \n",
       "\n",
       "  contact  day_of_week month  duration  campaign  pdays  previous poutcome   y  \n",
       "0     NaN            5   may       261         1     -1         0      NaN  no  \n",
       "1     NaN            5   may       151         1     -1         0      NaN  no  \n",
       "2     NaN            5   may        76         1     -1         0      NaN  no  \n",
       "3     NaN            5   may        92         1     -1         0      NaN  no  \n",
       "4     NaN            5   may       198         1     -1         0      NaN  no  "
      ]
     },
     "execution_count": 70,
     "metadata": {},
     "output_type": "execute_result"
    }
   ],
   "source": [
    "Banking_data= Banking_data.dropna(subset=['y'])\n",
    "Banking_data.head()"
   ]
  },
  {
   "cell_type": "markdown",
   "id": "e4015ccd-6c11-4d2f-b92a-7d5616b0e631",
   "metadata": {},
   "source": [
    "### <font color='green'> We will Encode the target variable 'y'</font>"
   ]
  },
  {
   "cell_type": "code",
   "execution_count": 82,
   "id": "479e00d2-2916-491e-be65-e44989598a74",
   "metadata": {
    "tags": []
   },
   "outputs": [
    {
     "data": {
      "text/plain": [
       "0    0\n",
       "1    0\n",
       "2    0\n",
       "3    0\n",
       "4    0\n",
       "Name: y, dtype: int64"
      ]
     },
     "execution_count": 82,
     "metadata": {},
     "output_type": "execute_result"
    }
   ],
   "source": [
    "le = LabelEncoder()\n",
    "Banking_data['y'] = le.fit_transform(Banking_data['y'])\n",
    "Banking_data['y'].head()"
   ]
  },
  {
   "cell_type": "markdown",
   "id": "9d8e5f57-31b2-4032-8918-f13f0adbf77b",
   "metadata": {
    "tags": []
   },
   "source": [
    "### <font color='green'> We will Declare feature vector and target variable </font>"
   ]
  },
  {
   "cell_type": "code",
   "execution_count": 81,
   "id": "94b71cc4-00ba-47db-a680-1972eb7fe492",
   "metadata": {
    "tags": []
   },
   "outputs": [
    {
     "name": "stdout",
     "output_type": "stream",
     "text": [
      "   age           job  marital  education default  balance housing loan  \\\n",
      "0   58    management  married   tertiary      no     2143     yes   no   \n",
      "1   44    technician   single  secondary      no       29     yes   no   \n",
      "2   33  entrepreneur  married  secondary      no        2     yes  yes   \n",
      "3   47   blue-collar  married        NaN      no     1506     yes   no   \n",
      "4   33           NaN   single        NaN      no        1      no   no   \n",
      "\n",
      "  contact  day_of_week month  duration  campaign  pdays  previous poutcome  \n",
      "0     NaN            5   may       261         1     -1         0      NaN  \n",
      "1     NaN            5   may       151         1     -1         0      NaN  \n",
      "2     NaN            5   may        76         1     -1         0      NaN  \n",
      "3     NaN            5   may        92         1     -1         0      NaN  \n",
      "4     NaN            5   may       198         1     -1         0      NaN  \n",
      "0    0\n",
      "1    0\n",
      "2    0\n",
      "3    0\n",
      "4    0\n",
      "Name: y, dtype: int64\n"
     ]
    }
   ],
   "source": [
    "X = Banking_data.drop('y', axis=1)\n",
    "y = Banking_data['y']\n",
    "print(X.head())\n",
    "print(y.head())"
   ]
  },
  {
   "cell_type": "markdown",
   "id": "3e2613c3-837b-4246-9d04-8ab3bdd3d0e9",
   "metadata": {},
   "source": [
    "### <font color='green'> We will Encode categorical variables</font>"
   ]
  },
  {
   "cell_type": "code",
   "execution_count": 84,
   "id": "f2548237-9b17-4a54-8d74-1b2391114cd4",
   "metadata": {
    "tags": []
   },
   "outputs": [
    {
     "data": {
      "text/html": [
       "<div>\n",
       "<style scoped>\n",
       "    .dataframe tbody tr th:only-of-type {\n",
       "        vertical-align: middle;\n",
       "    }\n",
       "\n",
       "    .dataframe tbody tr th {\n",
       "        vertical-align: top;\n",
       "    }\n",
       "\n",
       "    .dataframe thead th {\n",
       "        text-align: right;\n",
       "    }\n",
       "</style>\n",
       "<table border=\"1\" class=\"dataframe\">\n",
       "  <thead>\n",
       "    <tr style=\"text-align: right;\">\n",
       "      <th></th>\n",
       "      <th>age_18</th>\n",
       "      <th>age_19</th>\n",
       "      <th>age_20</th>\n",
       "      <th>age_21</th>\n",
       "      <th>age_22</th>\n",
       "      <th>age_23</th>\n",
       "      <th>age_24</th>\n",
       "      <th>age_25</th>\n",
       "      <th>age_26</th>\n",
       "      <th>age_27</th>\n",
       "      <th>...</th>\n",
       "      <th>previous_38</th>\n",
       "      <th>previous_40</th>\n",
       "      <th>previous_41</th>\n",
       "      <th>previous_51</th>\n",
       "      <th>previous_55</th>\n",
       "      <th>previous_58</th>\n",
       "      <th>previous_275</th>\n",
       "      <th>poutcome_failure</th>\n",
       "      <th>poutcome_other</th>\n",
       "      <th>poutcome_success</th>\n",
       "    </tr>\n",
       "  </thead>\n",
       "  <tbody>\n",
       "    <tr>\n",
       "      <th>0</th>\n",
       "      <td>False</td>\n",
       "      <td>False</td>\n",
       "      <td>False</td>\n",
       "      <td>False</td>\n",
       "      <td>False</td>\n",
       "      <td>False</td>\n",
       "      <td>False</td>\n",
       "      <td>False</td>\n",
       "      <td>False</td>\n",
       "      <td>False</td>\n",
       "      <td>...</td>\n",
       "      <td>False</td>\n",
       "      <td>False</td>\n",
       "      <td>False</td>\n",
       "      <td>False</td>\n",
       "      <td>False</td>\n",
       "      <td>False</td>\n",
       "      <td>False</td>\n",
       "      <td>True</td>\n",
       "      <td>False</td>\n",
       "      <td>False</td>\n",
       "    </tr>\n",
       "    <tr>\n",
       "      <th>1</th>\n",
       "      <td>False</td>\n",
       "      <td>False</td>\n",
       "      <td>False</td>\n",
       "      <td>False</td>\n",
       "      <td>False</td>\n",
       "      <td>False</td>\n",
       "      <td>False</td>\n",
       "      <td>False</td>\n",
       "      <td>False</td>\n",
       "      <td>False</td>\n",
       "      <td>...</td>\n",
       "      <td>False</td>\n",
       "      <td>False</td>\n",
       "      <td>False</td>\n",
       "      <td>False</td>\n",
       "      <td>False</td>\n",
       "      <td>False</td>\n",
       "      <td>False</td>\n",
       "      <td>True</td>\n",
       "      <td>False</td>\n",
       "      <td>False</td>\n",
       "    </tr>\n",
       "    <tr>\n",
       "      <th>2</th>\n",
       "      <td>False</td>\n",
       "      <td>False</td>\n",
       "      <td>False</td>\n",
       "      <td>False</td>\n",
       "      <td>False</td>\n",
       "      <td>False</td>\n",
       "      <td>False</td>\n",
       "      <td>False</td>\n",
       "      <td>False</td>\n",
       "      <td>False</td>\n",
       "      <td>...</td>\n",
       "      <td>False</td>\n",
       "      <td>False</td>\n",
       "      <td>False</td>\n",
       "      <td>False</td>\n",
       "      <td>False</td>\n",
       "      <td>False</td>\n",
       "      <td>False</td>\n",
       "      <td>True</td>\n",
       "      <td>False</td>\n",
       "      <td>False</td>\n",
       "    </tr>\n",
       "    <tr>\n",
       "      <th>3</th>\n",
       "      <td>False</td>\n",
       "      <td>False</td>\n",
       "      <td>False</td>\n",
       "      <td>False</td>\n",
       "      <td>False</td>\n",
       "      <td>False</td>\n",
       "      <td>False</td>\n",
       "      <td>False</td>\n",
       "      <td>False</td>\n",
       "      <td>False</td>\n",
       "      <td>...</td>\n",
       "      <td>False</td>\n",
       "      <td>False</td>\n",
       "      <td>False</td>\n",
       "      <td>False</td>\n",
       "      <td>False</td>\n",
       "      <td>False</td>\n",
       "      <td>False</td>\n",
       "      <td>True</td>\n",
       "      <td>False</td>\n",
       "      <td>False</td>\n",
       "    </tr>\n",
       "    <tr>\n",
       "      <th>4</th>\n",
       "      <td>False</td>\n",
       "      <td>False</td>\n",
       "      <td>False</td>\n",
       "      <td>False</td>\n",
       "      <td>False</td>\n",
       "      <td>False</td>\n",
       "      <td>False</td>\n",
       "      <td>False</td>\n",
       "      <td>False</td>\n",
       "      <td>False</td>\n",
       "      <td>...</td>\n",
       "      <td>False</td>\n",
       "      <td>False</td>\n",
       "      <td>False</td>\n",
       "      <td>False</td>\n",
       "      <td>False</td>\n",
       "      <td>False</td>\n",
       "      <td>False</td>\n",
       "      <td>True</td>\n",
       "      <td>False</td>\n",
       "      <td>False</td>\n",
       "    </tr>\n",
       "  </tbody>\n",
       "</table>\n",
       "<p>5 rows × 9537 columns</p>\n",
       "</div>"
      ],
      "text/plain": [
       "   age_18  age_19  age_20  age_21  age_22  age_23  age_24  age_25  age_26  \\\n",
       "0   False   False   False   False   False   False   False   False   False   \n",
       "1   False   False   False   False   False   False   False   False   False   \n",
       "2   False   False   False   False   False   False   False   False   False   \n",
       "3   False   False   False   False   False   False   False   False   False   \n",
       "4   False   False   False   False   False   False   False   False   False   \n",
       "\n",
       "   age_27  ...  previous_38  previous_40  previous_41  previous_51  \\\n",
       "0   False  ...        False        False        False        False   \n",
       "1   False  ...        False        False        False        False   \n",
       "2   False  ...        False        False        False        False   \n",
       "3   False  ...        False        False        False        False   \n",
       "4   False  ...        False        False        False        False   \n",
       "\n",
       "   previous_55  previous_58  previous_275  poutcome_failure  poutcome_other  \\\n",
       "0        False        False         False              True           False   \n",
       "1        False        False         False              True           False   \n",
       "2        False        False         False              True           False   \n",
       "3        False        False         False              True           False   \n",
       "4        False        False         False              True           False   \n",
       "\n",
       "   poutcome_success  \n",
       "0             False  \n",
       "1             False  \n",
       "2             False  \n",
       "3             False  \n",
       "4             False  \n",
       "\n",
       "[5 rows x 9537 columns]"
      ]
     },
     "execution_count": 84,
     "metadata": {},
     "output_type": "execute_result"
    }
   ],
   "source": [
    "X_encoded = pd.get_dummies(X_imputed)\n",
    "X_encoded.head()"
   ]
  },
  {
   "cell_type": "markdown",
   "id": "22f0f37c-4c14-4eb6-9675-86a796712c07",
   "metadata": {
    "tags": []
   },
   "source": [
    "### <font color='green'>We will Split data into separate training and test set</font>"
   ]
  },
  {
   "cell_type": "code",
   "execution_count": 85,
   "id": "572f19a8-a06d-4ee4-ba2e-38640b369086",
   "metadata": {
    "tags": []
   },
   "outputs": [
    {
     "data": {
      "text/plain": [
       "((36168, 9537), (9043, 9537))"
      ]
     },
     "execution_count": 85,
     "metadata": {},
     "output_type": "execute_result"
    }
   ],
   "source": [
    "X_train, X_test, y_train, y_test = train_test_split(X_encoded, y, test_size=0.2, random_state=42)\n",
    "X_train.shape, X_test.shape"
   ]
  },
  {
   "cell_type": "markdown",
   "id": "79271fc1-1105-4d10-b079-f0eb7c5f3bf2",
   "metadata": {},
   "source": [
    "### <font color='green'>Decision Tree Classifier with criterion gini index </font>"
   ]
  },
  {
   "cell_type": "code",
   "execution_count": 86,
   "id": "657c814a-590c-4791-acc4-98c925e8745c",
   "metadata": {
    "tags": []
   },
   "outputs": [],
   "source": [
    "clf_gini = DecisionTreeClassifier(criterion='gini', max_depth=3, random_state=0)"
   ]
  },
  {
   "cell_type": "code",
   "execution_count": 87,
   "id": "fb8e3d80-d411-4098-9297-afdb4acfcf12",
   "metadata": {
    "tags": []
   },
   "outputs": [
    {
     "name": "stdout",
     "output_type": "stream",
     "text": [
      "DecisionTreeClassifier(max_depth=3, random_state=0)\n"
     ]
    }
   ],
   "source": [
    "print(clf_gini)"
   ]
  },
  {
   "cell_type": "code",
   "execution_count": 88,
   "id": "0faa6df1-9f99-4fbf-bdcf-e84ae7993a8a",
   "metadata": {
    "tags": []
   },
   "outputs": [
    {
     "data": {
      "text/html": [
       "<style>#sk-container-id-4 {color: black;}#sk-container-id-4 pre{padding: 0;}#sk-container-id-4 div.sk-toggleable {background-color: white;}#sk-container-id-4 label.sk-toggleable__label {cursor: pointer;display: block;width: 100%;margin-bottom: 0;padding: 0.3em;box-sizing: border-box;text-align: center;}#sk-container-id-4 label.sk-toggleable__label-arrow:before {content: \"▸\";float: left;margin-right: 0.25em;color: #696969;}#sk-container-id-4 label.sk-toggleable__label-arrow:hover:before {color: black;}#sk-container-id-4 div.sk-estimator:hover label.sk-toggleable__label-arrow:before {color: black;}#sk-container-id-4 div.sk-toggleable__content {max-height: 0;max-width: 0;overflow: hidden;text-align: left;background-color: #f0f8ff;}#sk-container-id-4 div.sk-toggleable__content pre {margin: 0.2em;color: black;border-radius: 0.25em;background-color: #f0f8ff;}#sk-container-id-4 input.sk-toggleable__control:checked~div.sk-toggleable__content {max-height: 200px;max-width: 100%;overflow: auto;}#sk-container-id-4 input.sk-toggleable__control:checked~label.sk-toggleable__label-arrow:before {content: \"▾\";}#sk-container-id-4 div.sk-estimator input.sk-toggleable__control:checked~label.sk-toggleable__label {background-color: #d4ebff;}#sk-container-id-4 div.sk-label input.sk-toggleable__control:checked~label.sk-toggleable__label {background-color: #d4ebff;}#sk-container-id-4 input.sk-hidden--visually {border: 0;clip: rect(1px 1px 1px 1px);clip: rect(1px, 1px, 1px, 1px);height: 1px;margin: -1px;overflow: hidden;padding: 0;position: absolute;width: 1px;}#sk-container-id-4 div.sk-estimator {font-family: monospace;background-color: #f0f8ff;border: 1px dotted black;border-radius: 0.25em;box-sizing: border-box;margin-bottom: 0.5em;}#sk-container-id-4 div.sk-estimator:hover {background-color: #d4ebff;}#sk-container-id-4 div.sk-parallel-item::after {content: \"\";width: 100%;border-bottom: 1px solid gray;flex-grow: 1;}#sk-container-id-4 div.sk-label:hover label.sk-toggleable__label {background-color: #d4ebff;}#sk-container-id-4 div.sk-serial::before {content: \"\";position: absolute;border-left: 1px solid gray;box-sizing: border-box;top: 0;bottom: 0;left: 50%;z-index: 0;}#sk-container-id-4 div.sk-serial {display: flex;flex-direction: column;align-items: center;background-color: white;padding-right: 0.2em;padding-left: 0.2em;position: relative;}#sk-container-id-4 div.sk-item {position: relative;z-index: 1;}#sk-container-id-4 div.sk-parallel {display: flex;align-items: stretch;justify-content: center;background-color: white;position: relative;}#sk-container-id-4 div.sk-item::before, #sk-container-id-4 div.sk-parallel-item::before {content: \"\";position: absolute;border-left: 1px solid gray;box-sizing: border-box;top: 0;bottom: 0;left: 50%;z-index: -1;}#sk-container-id-4 div.sk-parallel-item {display: flex;flex-direction: column;z-index: 1;position: relative;background-color: white;}#sk-container-id-4 div.sk-parallel-item:first-child::after {align-self: flex-end;width: 50%;}#sk-container-id-4 div.sk-parallel-item:last-child::after {align-self: flex-start;width: 50%;}#sk-container-id-4 div.sk-parallel-item:only-child::after {width: 0;}#sk-container-id-4 div.sk-dashed-wrapped {border: 1px dashed gray;margin: 0 0.4em 0.5em 0.4em;box-sizing: border-box;padding-bottom: 0.4em;background-color: white;}#sk-container-id-4 div.sk-label label {font-family: monospace;font-weight: bold;display: inline-block;line-height: 1.2em;}#sk-container-id-4 div.sk-label-container {text-align: center;}#sk-container-id-4 div.sk-container {/* jupyter's `normalize.less` sets `[hidden] { display: none; }` but bootstrap.min.css set `[hidden] { display: none !important; }` so we also need the `!important` here to be able to override the default hidden behavior on the sphinx rendered scikit-learn.org. See: https://github.com/scikit-learn/scikit-learn/issues/21755 */display: inline-block !important;position: relative;}#sk-container-id-4 div.sk-text-repr-fallback {display: none;}</style><div id=\"sk-container-id-4\" class=\"sk-top-container\"><div class=\"sk-text-repr-fallback\"><pre>DecisionTreeClassifier(max_depth=3, random_state=0)</pre><b>In a Jupyter environment, please rerun this cell to show the HTML representation or trust the notebook. <br />On GitHub, the HTML representation is unable to render, please try loading this page with nbviewer.org.</b></div><div class=\"sk-container\" hidden><div class=\"sk-item\"><div class=\"sk-estimator sk-toggleable\"><input class=\"sk-toggleable__control sk-hidden--visually\" id=\"sk-estimator-id-4\" type=\"checkbox\" checked><label for=\"sk-estimator-id-4\" class=\"sk-toggleable__label sk-toggleable__label-arrow\">DecisionTreeClassifier</label><div class=\"sk-toggleable__content\"><pre>DecisionTreeClassifier(max_depth=3, random_state=0)</pre></div></div></div></div></div>"
      ],
      "text/plain": [
       "DecisionTreeClassifier(max_depth=3, random_state=0)"
      ]
     },
     "execution_count": 88,
     "metadata": {},
     "output_type": "execute_result"
    }
   ],
   "source": [
    "clf_gini.fit(X_train, y_train)"
   ]
  },
  {
   "cell_type": "markdown",
   "id": "424116f1-8279-494b-9d92-2345a61a1be8",
   "metadata": {
    "tags": []
   },
   "source": [
    "### <font color='green'>Predict the Test set results with criterion gini index</font>"
   ]
  },
  {
   "cell_type": "code",
   "execution_count": 89,
   "id": "93308097-d430-463f-a437-4c85c161470f",
   "metadata": {
    "tags": []
   },
   "outputs": [],
   "source": [
    "y_pred_gini = clf_gini.predict(X_test)"
   ]
  },
  {
   "cell_type": "markdown",
   "id": "3454a7e3-e57f-43c4-b420-5e679eaad701",
   "metadata": {},
   "source": [
    "### <font color='green'>Check accuracy score with criterion gini index</font>"
   ]
  },
  {
   "cell_type": "code",
   "execution_count": 91,
   "id": "085dbcfd-a14c-4297-93f9-a819762b4055",
   "metadata": {
    "tags": []
   },
   "outputs": [
    {
     "name": "stdout",
     "output_type": "stream",
     "text": [
      "Model accuracy score with criterion gini index: 0.8904\n"
     ]
    }
   ],
   "source": [
    "print('Model accuracy score with criterion gini index: {0:0.4f}'. format(accuracy_score(y_test, y_pred_gini)))"
   ]
  },
  {
   "cell_type": "markdown",
   "id": "eb53d98b-54f7-47f3-929e-5161b0e9a738",
   "metadata": {},
   "source": [
    "### <font color='green'>Compare the train-set and test-set accuracy</font>"
   ]
  },
  {
   "cell_type": "code",
   "execution_count": 92,
   "id": "bc639618-9cc9-4229-93ae-373c249fd89e",
   "metadata": {
    "tags": []
   },
   "outputs": [
    {
     "data": {
      "text/plain": [
       "array([0, 0, 0, ..., 0, 0, 0], dtype=int64)"
      ]
     },
     "execution_count": 92,
     "metadata": {},
     "output_type": "execute_result"
    }
   ],
   "source": [
    "y_pred_train_gini = clf_gini.predict(X_train)\n",
    "\n",
    "y_pred_train_gini"
   ]
  },
  {
   "cell_type": "code",
   "execution_count": 93,
   "id": "5523927f-dada-472b-994b-113f1c3df422",
   "metadata": {
    "tags": []
   },
   "outputs": [
    {
     "name": "stdout",
     "output_type": "stream",
     "text": [
      "Training-set accuracy score: 0.8943\n"
     ]
    }
   ],
   "source": [
    "print('Training-set accuracy score: {0:0.4f}'. format(accuracy_score(y_train, y_pred_train_gini)))"
   ]
  },
  {
   "cell_type": "markdown",
   "id": "8a7459d3-6b6e-481d-b249-25a8b1614e0e",
   "metadata": {},
   "source": [
    "### <font color='green'>Check for overfitting and underfitting</font>"
   ]
  },
  {
   "cell_type": "code",
   "execution_count": 94,
   "id": "2abd2cba-0e3b-4c43-9bde-d918057afba2",
   "metadata": {
    "tags": []
   },
   "outputs": [
    {
     "name": "stdout",
     "output_type": "stream",
     "text": [
      "Training set score: 0.8943\n",
      "Test set score: 0.8904\n"
     ]
    }
   ],
   "source": [
    "print('Training set score: {:.4f}'.format(clf_gini.score(X_train, y_train)))\n",
    "\n",
    "print('Test set score: {:.4f}'.format(clf_gini.score(X_test, y_test)))"
   ]
  },
  {
   "cell_type": "markdown",
   "id": "8c42ba25-ee70-4b19-bc5e-ab44dee3dc0d",
   "metadata": {},
   "source": [
    "### <font color='green'>Visualize decision-trees</font>"
   ]
  },
  {
   "cell_type": "code",
   "execution_count": 98,
   "id": "5712aee6-f0a3-4e2d-b72a-fb4752d45366",
   "metadata": {
    "tags": []
   },
   "outputs": [
    {
     "data": {
      "text/plain": [
       "[Text(0.5, 0.875, 'x[9536] <= 0.5\\ngini = 0.205\\nsamples = 36168\\nvalue = [31970, 4198]'),\n",
       " Text(0.25, 0.625, 'x[7308] <= 0.5\\ngini = 0.177\\nsamples = 34958\\nvalue = [31536, 3422]'),\n",
       " Text(0.125, 0.375, 'x[7311] <= 0.5\\ngini = 0.171\\nsamples = 34633\\nvalue = [31369, 3264]'),\n",
       " Text(0.0625, 0.125, 'gini = 0.164\\nsamples = 34144\\nvalue = [31062, 3082]'),\n",
       " Text(0.1875, 0.125, 'gini = 0.467\\nsamples = 489\\nvalue = [307, 182]'),\n",
       " Text(0.375, 0.375, 'x[7295] <= 0.5\\ngini = 0.5\\nsamples = 325\\nvalue = [167, 158]'),\n",
       " Text(0.3125, 0.125, 'gini = 0.5\\nsamples = 309\\nvalue = [153, 156]'),\n",
       " Text(0.4375, 0.125, 'gini = 0.219\\nsamples = 16\\nvalue = [14, 2]'),\n",
       " Text(0.75, 0.625, 'x[7264] <= 0.5\\ngini = 0.46\\nsamples = 1210\\nvalue = [434, 776]'),\n",
       " Text(0.625, 0.375, 'x[7309] <= 0.5\\ngini = 0.499\\nsamples = 393\\nvalue = [186, 207]'),\n",
       " Text(0.5625, 0.125, 'gini = 0.487\\nsamples = 284\\nvalue = [119, 165]'),\n",
       " Text(0.6875, 0.125, 'gini = 0.474\\nsamples = 109\\nvalue = [67, 42]'),\n",
       " Text(0.875, 0.375, 'x[7409] <= 0.5\\ngini = 0.423\\nsamples = 817\\nvalue = [248, 569]'),\n",
       " Text(0.8125, 0.125, 'gini = 0.419\\nsamples = 810\\nvalue = [242, 568]'),\n",
       " Text(0.9375, 0.125, 'gini = 0.245\\nsamples = 7\\nvalue = [6, 1]')]"
      ]
     },
     "execution_count": 98,
     "metadata": {},
     "output_type": "execute_result"
    },
    {
     "data": {
      "image/png": "[encoded data removed]",
      "text/plain": [
       "<Figure size 1200x800 with 1 Axes>"
      ]
     },
     "metadata": {},
     "output_type": "display_data"
    }
   ],
   "source": [
    "plt.figure(figsize=(12,8))\n",
    "\n",
    "from sklearn import tree\n",
    "\n",
    "tree.plot_tree(clf_gini.fit(X_train, y_train)) "
   ]
  },
  {
   "cell_type": "markdown",
   "id": "8e39f556-1dc0-4b48-a46d-1bf6408627de",
   "metadata": {},
   "source": [
    "### <font color='green'>Decision Tree Classifier with criterion entropy</font>\n",
    "#### Same Steps are repeated for entropy criterion"
   ]
  },
  {
   "cell_type": "code",
   "execution_count": 109,
   "id": "517ff763-9a38-43dc-b457-79be81442422",
   "metadata": {
    "tags": []
   },
   "outputs": [
    {
     "data": {
      "text/html": [
       "<style>#sk-container-id-5 {color: black;}#sk-container-id-5 pre{padding: 0;}#sk-container-id-5 div.sk-toggleable {background-color: white;}#sk-container-id-5 label.sk-toggleable__label {cursor: pointer;display: block;width: 100%;margin-bottom: 0;padding: 0.3em;box-sizing: border-box;text-align: center;}#sk-container-id-5 label.sk-toggleable__label-arrow:before {content: \"▸\";float: left;margin-right: 0.25em;color: #696969;}#sk-container-id-5 label.sk-toggleable__label-arrow:hover:before {color: black;}#sk-container-id-5 div.sk-estimator:hover label.sk-toggleable__label-arrow:before {color: black;}#sk-container-id-5 div.sk-toggleable__content {max-height: 0;max-width: 0;overflow: hidden;text-align: left;background-color: #f0f8ff;}#sk-container-id-5 div.sk-toggleable__content pre {margin: 0.2em;color: black;border-radius: 0.25em;background-color: #f0f8ff;}#sk-container-id-5 input.sk-toggleable__control:checked~div.sk-toggleable__content {max-height: 200px;max-width: 100%;overflow: auto;}#sk-container-id-5 input.sk-toggleable__control:checked~label.sk-toggleable__label-arrow:before {content: \"▾\";}#sk-container-id-5 div.sk-estimator input.sk-toggleable__control:checked~label.sk-toggleable__label {background-color: #d4ebff;}#sk-container-id-5 div.sk-label input.sk-toggleable__control:checked~label.sk-toggleable__label {background-color: #d4ebff;}#sk-container-id-5 input.sk-hidden--visually {border: 0;clip: rect(1px 1px 1px 1px);clip: rect(1px, 1px, 1px, 1px);height: 1px;margin: -1px;overflow: hidden;padding: 0;position: absolute;width: 1px;}#sk-container-id-5 div.sk-estimator {font-family: monospace;background-color: #f0f8ff;border: 1px dotted black;border-radius: 0.25em;box-sizing: border-box;margin-bottom: 0.5em;}#sk-container-id-5 div.sk-estimator:hover {background-color: #d4ebff;}#sk-container-id-5 div.sk-parallel-item::after {content: \"\";width: 100%;border-bottom: 1px solid gray;flex-grow: 1;}#sk-container-id-5 div.sk-label:hover label.sk-toggleable__label {background-color: #d4ebff;}#sk-container-id-5 div.sk-serial::before {content: \"\";position: absolute;border-left: 1px solid gray;box-sizing: border-box;top: 0;bottom: 0;left: 50%;z-index: 0;}#sk-container-id-5 div.sk-serial {display: flex;flex-direction: column;align-items: center;background-color: white;padding-right: 0.2em;padding-left: 0.2em;position: relative;}#sk-container-id-5 div.sk-item {position: relative;z-index: 1;}#sk-container-id-5 div.sk-parallel {display: flex;align-items: stretch;justify-content: center;background-color: white;position: relative;}#sk-container-id-5 div.sk-item::before, #sk-container-id-5 div.sk-parallel-item::before {content: \"\";position: absolute;border-left: 1px solid gray;box-sizing: border-box;top: 0;bottom: 0;left: 50%;z-index: -1;}#sk-container-id-5 div.sk-parallel-item {display: flex;flex-direction: column;z-index: 1;position: relative;background-color: white;}#sk-container-id-5 div.sk-parallel-item:first-child::after {align-self: flex-end;width: 50%;}#sk-container-id-5 div.sk-parallel-item:last-child::after {align-self: flex-start;width: 50%;}#sk-container-id-5 div.sk-parallel-item:only-child::after {width: 0;}#sk-container-id-5 div.sk-dashed-wrapped {border: 1px dashed gray;margin: 0 0.4em 0.5em 0.4em;box-sizing: border-box;padding-bottom: 0.4em;background-color: white;}#sk-container-id-5 div.sk-label label {font-family: monospace;font-weight: bold;display: inline-block;line-height: 1.2em;}#sk-container-id-5 div.sk-label-container {text-align: center;}#sk-container-id-5 div.sk-container {/* jupyter's `normalize.less` sets `[hidden] { display: none; }` but bootstrap.min.css set `[hidden] { display: none !important; }` so we also need the `!important` here to be able to override the default hidden behavior on the sphinx rendered scikit-learn.org. See: https://github.com/scikit-learn/scikit-learn/issues/21755 */display: inline-block !important;position: relative;}#sk-container-id-5 div.sk-text-repr-fallback {display: none;}</style><div id=\"sk-container-id-5\" class=\"sk-top-container\"><div class=\"sk-text-repr-fallback\"><pre>DecisionTreeClassifier(criterion=&#x27;entropy&#x27;, max_depth=3, random_state=0)</pre><b>In a Jupyter environment, please rerun this cell to show the HTML representation or trust the notebook. <br />On GitHub, the HTML representation is unable to render, please try loading this page with nbviewer.org.</b></div><div class=\"sk-container\" hidden><div class=\"sk-item\"><div class=\"sk-estimator sk-toggleable\"><input class=\"sk-toggleable__control sk-hidden--visually\" id=\"sk-estimator-id-5\" type=\"checkbox\" checked><label for=\"sk-estimator-id-5\" class=\"sk-toggleable__label sk-toggleable__label-arrow\">DecisionTreeClassifier</label><div class=\"sk-toggleable__content\"><pre>DecisionTreeClassifier(criterion=&#x27;entropy&#x27;, max_depth=3, random_state=0)</pre></div></div></div></div></div>"
      ],
      "text/plain": [
       "DecisionTreeClassifier(criterion='entropy', max_depth=3, random_state=0)"
      ]
     },
     "execution_count": 109,
     "metadata": {},
     "output_type": "execute_result"
    }
   ],
   "source": [
    "clf_en = DecisionTreeClassifier(criterion='entropy', max_depth=3, random_state=0)\n",
    "\n",
    "\n",
    "# fit the model\n",
    "clf_en.fit(X_train, y_train)"
   ]
  },
  {
   "cell_type": "code",
   "execution_count": 110,
   "id": "83d87a0e-f2b2-40ad-8a97-23c95a530f54",
   "metadata": {
    "tags": []
   },
   "outputs": [],
   "source": [
    "y_pred_en = clf_en.predict(X_test)"
   ]
  },
  {
   "cell_type": "code",
   "execution_count": 111,
   "id": "903684ab-2d99-42bb-82c2-0c2422a3b45a",
   "metadata": {
    "tags": []
   },
   "outputs": [
    {
     "name": "stdout",
     "output_type": "stream",
     "text": [
      "Model accuracy score with criterion entropy: 0.8910\n"
     ]
    }
   ],
   "source": [
    "from sklearn.metrics import accuracy_score\n",
    "\n",
    "print('Model accuracy score with criterion entropy: {0:0.4f}'. format(accuracy_score(y_test, y_pred_en)))"
   ]
  },
  {
   "cell_type": "code",
   "execution_count": 112,
   "id": "8ef780ac-04ca-425a-a524-05cabe680521",
   "metadata": {
    "tags": []
   },
   "outputs": [
    {
     "data": {
      "text/plain": [
       "array([0, 0, 0, ..., 0, 0, 0], dtype=int64)"
      ]
     },
     "execution_count": 112,
     "metadata": {},
     "output_type": "execute_result"
    }
   ],
   "source": [
    "y_pred_train_en = clf_en.predict(X_train)\n",
    "\n",
    "y_pred_train_en"
   ]
  },
  {
   "cell_type": "code",
   "execution_count": 113,
   "id": "b99d762a-0039-4dc7-9d3a-dd666d0b712f",
   "metadata": {
    "tags": []
   },
   "outputs": [
    {
     "name": "stdout",
     "output_type": "stream",
     "text": [
      "Training-set accuracy score: 0.8941\n"
     ]
    }
   ],
   "source": [
    "print('Training-set accuracy score: {0:0.4f}'. format(accuracy_score(y_train, y_pred_train_en)))"
   ]
  },
  {
   "cell_type": "code",
   "execution_count": 114,
   "id": "e49ce3eb-31d5-4846-809f-b8855d610e74",
   "metadata": {
    "tags": []
   },
   "outputs": [
    {
     "name": "stdout",
     "output_type": "stream",
     "text": [
      "Training set score: 0.8941\n",
      "Test set score: 0.8910\n"
     ]
    }
   ],
   "source": [
    "print('Training set score: {:.4f}'.format(clf_en.score(X_train, y_train)))\n",
    "\n",
    "print('Test set score: {:.4f}'.format(clf_en.score(X_test, y_test)))"
   ]
  },
  {
   "cell_type": "code",
   "execution_count": 115,
   "id": "bc695db1-cf3a-4a01-a0b5-ac8aca11e3d0",
   "metadata": {
    "tags": []
   },
   "outputs": [
    {
     "data": {
      "text/plain": [
       "[Text(0.5, 0.875, 'x[9536] <= 0.5\\nentropy = 0.518\\nsamples = 36168\\nvalue = [31970, 4198]'),\n",
       " Text(0.25, 0.625, 'x[7265] <= 0.5\\nentropy = 0.462\\nsamples = 34958\\nvalue = [31536, 3422]'),\n",
       " Text(0.125, 0.375, 'x[7301] <= 0.5\\nentropy = 0.579\\nsamples = 15216\\nvalue = [13117, 2099]'),\n",
       " Text(0.0625, 0.125, 'entropy = 0.547\\nsamples = 14596\\nvalue = [12753, 1843]'),\n",
       " Text(0.1875, 0.125, 'entropy = 0.978\\nsamples = 620\\nvalue = [364, 256]'),\n",
       " Text(0.375, 0.375, 'x[7311] <= 0.5\\nentropy = 0.355\\nsamples = 19742\\nvalue = [18419, 1323]'),\n",
       " Text(0.3125, 0.125, 'entropy = 0.347\\nsamples = 19625\\nvalue = [18347, 1278]'),\n",
       " Text(0.4375, 0.125, 'entropy = 0.961\\nsamples = 117\\nvalue = [72, 45]'),\n",
       " Text(0.75, 0.625, 'x[7264] <= 0.5\\nentropy = 0.942\\nsamples = 1210\\nvalue = [434, 776]'),\n",
       " Text(0.625, 0.375, 'x[7309] <= 0.5\\nentropy = 0.998\\nsamples = 393\\nvalue = [186, 207]'),\n",
       " Text(0.5625, 0.125, 'entropy = 0.981\\nsamples = 284\\nvalue = [119, 165]'),\n",
       " Text(0.6875, 0.125, 'entropy = 0.962\\nsamples = 109\\nvalue = [67, 42]'),\n",
       " Text(0.875, 0.375, 'x[9022] <= 0.5\\nentropy = 0.886\\nsamples = 817\\nvalue = [248, 569]'),\n",
       " Text(0.8125, 0.125, 'entropy = 0.898\\nsamples = 780\\nvalue = [245, 535]'),\n",
       " Text(0.9375, 0.125, 'entropy = 0.406\\nsamples = 37\\nvalue = [3, 34]')]"
      ]
     },
     "execution_count": 115,
     "metadata": {},
     "output_type": "execute_result"
    },
    {
     "data": {
      "image/png": "[encoded data removed]",
      "text/plain": [
       "<Figure size 1200x800 with 1 Axes>"
      ]
     },
     "metadata": {},
     "output_type": "display_data"
    }
   ],
   "source": [
    "plt.figure(figsize=(12,8))\n",
    "\n",
    "from sklearn import tree\n",
    "\n",
    "tree.plot_tree(clf_en.fit(X_train, y_train)) "
   ]
  },
  {
   "cell_type": "markdown",
   "id": "b28d435d-cd84-4fa5-96b9-29aa156453a8",
   "metadata": {},
   "source": [
    "### <font color='green'>Confusion matrix</font>\n",
    "#### A confusion matrix is a tool for summarizing the performance of a classification algorithm. A confusion matrix will give us a clear picture of classification model performance and the types of errors produced by the model. It gives us a summary of correct and incorrect predictions broken down by each category. The summary is represented in a tabular form."
   ]
  },
  {
   "cell_type": "code",
   "execution_count": 116,
   "id": "db733e4b-86f2-4510-bb13-7e05347601a2",
   "metadata": {
    "tags": []
   },
   "outputs": [
    {
     "name": "stdout",
     "output_type": "stream",
     "text": [
      "Confusion matrix\n",
      "\n",
      " [[7863   89]\n",
      " [ 897  194]]\n"
     ]
    }
   ],
   "source": [
    "from sklearn.metrics import confusion_matrix\n",
    "\n",
    "cm = confusion_matrix(y_test, y_pred_en)\n",
    "\n",
    "print('Confusion matrix\\n\\n', cm)"
   ]
  },
  {
   "cell_type": "markdown",
   "id": "7c0d8933-4cbe-41bd-9752-d6d2011136ba",
   "metadata": {},
   "source": [
    "### <font color='green'>Classification Report </font>\n",
    "#### Classification report is another way to evaluate the classification model performance. It displays the precision, recall, f1 and support scores for the model. "
   ]
  },
  {
   "cell_type": "code",
   "execution_count": 117,
   "id": "1493b81d-c9e2-4b53-bde1-073fd2d6cac2",
   "metadata": {
    "tags": []
   },
   "outputs": [
    {
     "name": "stdout",
     "output_type": "stream",
     "text": [
      "              precision    recall  f1-score   support\n",
      "\n",
      "           0       0.90      0.99      0.94      7952\n",
      "           1       0.69      0.18      0.28      1091\n",
      "\n",
      "    accuracy                           0.89      9043\n",
      "   macro avg       0.79      0.58      0.61      9043\n",
      "weighted avg       0.87      0.89      0.86      9043\n",
      "\n"
     ]
    }
   ],
   "source": [
    "from sklearn.metrics import classification_report\n",
    "\n",
    "print(classification_report(y_test, y_pred_en))"
   ]
  },
  {
   "cell_type": "markdown",
   "id": "c13d924c-e667-49dd-a523-e49a1bd1e5ff",
   "metadata": {
    "tags": []
   },
   "source": [
    "### <font color='green'>Results and Interpretation</font>\n",
    "#### 1.In this project, I build a Decision-Tree Classifier model to predict the whether a customer will purchase a product or not. I build two models, one with criterion gini index and another one with criterion entropy. The model yields a very good performance as indicated by the model accuracy in both the cases which was found to be 0.89.\n",
    "#### 2.In the model with criterion gini index, the training-set accuracy score is 0.8943 while the test-set accuracy to be 0.8904. These two values are quite comparable. So, there is no sign of overfitting.\n",
    "#### 3.Similarly, in the model with criterion entropy, the training-set accuracy score is 0.8941 while the test-set accuracy to be 0.8910.We get the same values as in the case with criterion gini. So, there is no sign of overfitting.\n",
    "#### 4.In both the cases, the training-set and test-set accuracy score is the same. It may happen because of small dataset.\n",
    "#### 5.The confusion matrix and classification report yields very good model performance.\n"
   ]
  },
  {
   "cell_type": "markdown",
   "id": "ecb5cc53-5981-4e39-ac45-25a09ea03f51",
   "metadata": {},
   "source": [
    "## <font color='green'>Thank You For Reading!</font>"
   ]
  }
 ],
 "metadata": {
  "kernelspec": {
   "display_name": "Python 3 (ipykernel)",
   "language": "python",
   "name": "python3"
  },
  "language_info": {
   "codemirror_mode": {
    "name": "ipython",
    "version": 3
   },
   "file_extension": ".py",
   "mimetype": "text/x-python",
   "name": "python",
   "nbconvert_exporter": "python",
   "pygments_lexer": "ipython3",
   "version": "3.11.5"
  }
 },
 "nbformat": 4,
 "nbformat_minor": 5
}
